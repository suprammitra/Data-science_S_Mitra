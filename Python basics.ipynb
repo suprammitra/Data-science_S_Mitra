{
 "cells": [
  {
   "cell_type": "code",
   "execution_count": 1,
   "id": "2e3bab90-6ca9-4919-b5ec-5910ef59ecf9",
   "metadata": {},
   "outputs": [
    {
     "name": "stdout",
     "output_type": "stream",
     "text": [
      "hello to programming world\n"
     ]
    }
   ],
   "source": [
    "print(\"hello to programming world\")"
   ]
  },
  {
   "cell_type": "code",
   "execution_count": 4,
   "id": "fda8dc54-5a81-4d2f-9ae7-9d42a1a738f6",
   "metadata": {},
   "outputs": [],
   "source": [
    "a=10"
   ]
  },
  {
   "cell_type": "code",
   "execution_count": 5,
   "id": "1001d74a-1cbf-4686-97c8-52f9c9e56d6f",
   "metadata": {},
   "outputs": [
    {
     "data": {
      "text/plain": [
       "10"
      ]
     },
     "execution_count": 5,
     "metadata": {},
     "output_type": "execute_result"
    }
   ],
   "source": [
    "a"
   ]
  },
  {
   "cell_type": "code",
   "execution_count": 6,
   "id": "4891c307-5d7b-4cf6-8975-64411c366afa",
   "metadata": {},
   "outputs": [
    {
     "data": {
      "text/plain": [
       "int"
      ]
     },
     "execution_count": 6,
     "metadata": {},
     "output_type": "execute_result"
    }
   ],
   "source": [
    "type(a)"
   ]
  },
  {
   "cell_type": "code",
   "execution_count": 7,
   "id": "fd8b777e-7f12-40dd-8f64-0ab461b6fac4",
   "metadata": {},
   "outputs": [],
   "source": [
    "b=2.3333"
   ]
  },
  {
   "cell_type": "code",
   "execution_count": 8,
   "id": "2c5affaf-67c8-4bea-9878-7f8748d8e69b",
   "metadata": {},
   "outputs": [
    {
     "data": {
      "text/plain": [
       "2.3333"
      ]
     },
     "execution_count": 8,
     "metadata": {},
     "output_type": "execute_result"
    }
   ],
   "source": [
    "b"
   ]
  },
  {
   "cell_type": "code",
   "execution_count": 9,
   "id": "01aaac66-858a-4ca3-9b6a-24c051c6317d",
   "metadata": {},
   "outputs": [
    {
     "data": {
      "text/plain": [
       "float"
      ]
     },
     "execution_count": 9,
     "metadata": {},
     "output_type": "execute_result"
    }
   ],
   "source": [
    "type(b)"
   ]
  },
  {
   "cell_type": "code",
   "execution_count": 10,
   "id": "e035a59d-64b0-49f8-bd32-63574cfa80ee",
   "metadata": {},
   "outputs": [],
   "source": [
    "c=\"supram\""
   ]
  },
  {
   "cell_type": "code",
   "execution_count": 11,
   "id": "74ac2ea4-f52c-4c1c-ab2e-35e9b267fdaa",
   "metadata": {},
   "outputs": [
    {
     "data": {
      "text/plain": [
       "str"
      ]
     },
     "execution_count": 11,
     "metadata": {},
     "output_type": "execute_result"
    }
   ],
   "source": [
    "type(c)"
   ]
  },
  {
   "cell_type": "code",
   "execution_count": 12,
   "id": "14c51f77-0c58-40fe-bd05-daf4708927bb",
   "metadata": {},
   "outputs": [],
   "source": [
    "d=True"
   ]
  },
  {
   "cell_type": "code",
   "execution_count": 13,
   "id": "3584f5d9-636e-4ca9-a9ee-24ff3400deb0",
   "metadata": {},
   "outputs": [
    {
     "data": {
      "text/plain": [
       "bool"
      ]
     },
     "execution_count": 13,
     "metadata": {},
     "output_type": "execute_result"
    }
   ],
   "source": [
    "type(d)"
   ]
  },
  {
   "cell_type": "code",
   "execution_count": 15,
   "id": "30ce525b-ebd7-4557-b06f-8ed69448aab6",
   "metadata": {},
   "outputs": [],
   "source": [
    "d1=False"
   ]
  },
  {
   "cell_type": "code",
   "execution_count": 16,
   "id": "3bb2e744-1f5e-4237-842f-47bcb26cc209",
   "metadata": {},
   "outputs": [
    {
     "data": {
      "text/plain": [
       "bool"
      ]
     },
     "execution_count": 16,
     "metadata": {},
     "output_type": "execute_result"
    }
   ],
   "source": [
    "type(d1)"
   ]
  },
  {
   "cell_type": "code",
   "execution_count": 17,
   "id": "b395ceb8-b325-4ec2-9c4d-efdee5505609",
   "metadata": {},
   "outputs": [
    {
     "data": {
      "text/plain": [
       "1"
      ]
     },
     "execution_count": 17,
     "metadata": {},
     "output_type": "execute_result"
    }
   ],
   "source": [
    "True-False"
   ]
  },
  {
   "cell_type": "code",
   "execution_count": 18,
   "id": "8ce29074-adcd-4627-a4f7-356bee27a4a3",
   "metadata": {},
   "outputs": [
    {
     "data": {
      "text/plain": [
       "-1"
      ]
     },
     "execution_count": 18,
     "metadata": {},
     "output_type": "execute_result"
    }
   ],
   "source": [
    "False-True"
   ]
  },
  {
   "cell_type": "code",
   "execution_count": 19,
   "id": "26859659-dcdd-4c70-a7cc-bdf9b506d182",
   "metadata": {},
   "outputs": [
    {
     "data": {
      "text/plain": [
       "0"
      ]
     },
     "execution_count": 19,
     "metadata": {},
     "output_type": "execute_result"
    }
   ],
   "source": [
    "True*False"
   ]
  },
  {
   "cell_type": "code",
   "execution_count": 20,
   "id": "44284ffd-a78a-4ae9-8db5-7902f5f7520c",
   "metadata": {},
   "outputs": [
    {
     "ename": "ZeroDivisionError",
     "evalue": "division by zero",
     "output_type": "error",
     "traceback": [
      "\u001b[0;31m---------------------------------------------------------------------------\u001b[0m",
      "\u001b[0;31mZeroDivisionError\u001b[0m                         Traceback (most recent call last)",
      "Cell \u001b[0;32mIn[20], line 1\u001b[0m\n\u001b[0;32m----> 1\u001b[0m \u001b[38;5;28;43;01mTrue\u001b[39;49;00m\u001b[38;5;241;43m/\u001b[39;49m\u001b[38;5;28;43;01mFalse\u001b[39;49;00m\n",
      "\u001b[0;31mZeroDivisionError\u001b[0m: division by zero"
     ]
    }
   ],
   "source": [
    "True/False"
   ]
  },
  {
   "cell_type": "code",
   "execution_count": 21,
   "id": "cae47715-2f08-4880-a132-cfd53bf2eb85",
   "metadata": {},
   "outputs": [
    {
     "data": {
      "text/plain": [
       "0.0"
      ]
     },
     "execution_count": 21,
     "metadata": {},
     "output_type": "execute_result"
    }
   ],
   "source": [
    "False/True"
   ]
  },
  {
   "cell_type": "code",
   "execution_count": 22,
   "id": "55f84104-1f26-460c-8f58-c549750d0c3d",
   "metadata": {},
   "outputs": [],
   "source": [
    "e=4+2j"
   ]
  },
  {
   "cell_type": "code",
   "execution_count": 23,
   "id": "b2295316-770c-4dd6-82d4-55019f8f77a8",
   "metadata": {},
   "outputs": [
    {
     "data": {
      "text/plain": [
       "complex"
      ]
     },
     "execution_count": 23,
     "metadata": {},
     "output_type": "execute_result"
    }
   ],
   "source": [
    "type(e)"
   ]
  },
  {
   "cell_type": "code",
   "execution_count": 26,
   "id": "e2ce1caa-afdb-4d24-84d4-08445c92d67f",
   "metadata": {},
   "outputs": [],
   "source": [
    "f=3+5j"
   ]
  },
  {
   "cell_type": "code",
   "execution_count": 27,
   "id": "2573d2ac-5592-44da-8407-4c4848bed9ce",
   "metadata": {},
   "outputs": [
    {
     "data": {
      "text/plain": [
       "4.0"
      ]
     },
     "execution_count": 27,
     "metadata": {},
     "output_type": "execute_result"
    }
   ],
   "source": [
    "e.real"
   ]
  },
  {
   "cell_type": "code",
   "execution_count": 29,
   "id": "7f1addb7-38fd-4bf5-8e04-7a49de489959",
   "metadata": {},
   "outputs": [
    {
     "data": {
      "text/plain": [
       "2.0"
      ]
     },
     "execution_count": 29,
     "metadata": {},
     "output_type": "execute_result"
    }
   ],
   "source": [
    "e.imag"
   ]
  },
  {
   "cell_type": "code",
   "execution_count": 31,
   "id": "94eb3394-c8d9-4cd5-8b4d-e73c9197c0c1",
   "metadata": {},
   "outputs": [],
   "source": [
    "\"\"\"my name is supram\n",
    "uyyggug\"\"\""
   ]
  },
  {
   "cell_type": "code",
   "execution_count": 32,
   "id": "e3fa8dcf-3149-451d-a64f-6c8bbde84c4b",
   "metadata": {},
   "outputs": [
    {
     "ename": "SyntaxError",
     "evalue": "invalid decimal literal (3431396677.py, line 1)",
     "output_type": "error",
     "traceback": [
      "\u001b[0;36m  Cell \u001b[0;32mIn[32], line 1\u001b[0;36m\u001b[0m\n\u001b[0;31m    1a=2\u001b[0m\n\u001b[0m    ^\u001b[0m\n\u001b[0;31mSyntaxError\u001b[0m\u001b[0;31m:\u001b[0m invalid decimal literal\n"
     ]
    }
   ],
   "source": [
    "1a=2"
   ]
  },
  {
   "cell_type": "code",
   "execution_count": 33,
   "id": "12c7ce87-c685-4e16-a806-6a8e73c99fb3",
   "metadata": {},
   "outputs": [
    {
     "ename": "SyntaxError",
     "evalue": "cannot assign to literal here. Maybe you meant '==' instead of '='? (787909775.py, line 1)",
     "output_type": "error",
     "traceback": [
      "\u001b[0;36m  Cell \u001b[0;32mIn[33], line 1\u001b[0;36m\u001b[0m\n\u001b[0;31m    22=12\u001b[0m\n\u001b[0m    ^\u001b[0m\n\u001b[0;31mSyntaxError\u001b[0m\u001b[0;31m:\u001b[0m cannot assign to literal here. Maybe you meant '==' instead of '='?\n"
     ]
    }
   ],
   "source": [
    "22=12"
   ]
  },
  {
   "cell_type": "code",
   "execution_count": 34,
   "id": "32d716f3-070f-452d-828a-858b6d58eecb",
   "metadata": {},
   "outputs": [],
   "source": [
    "#12=10"
   ]
  },
  {
   "cell_type": "code",
   "execution_count": 35,
   "id": "52d7bf14-a6c6-4098-b585-ae826d67062d",
   "metadata": {},
   "outputs": [],
   "source": [
    "supram=12"
   ]
  },
  {
   "cell_type": "code",
   "execution_count": 36,
   "id": "95b7e591-2085-4178-af0b-4b2f881acc76",
   "metadata": {},
   "outputs": [
    {
     "data": {
      "text/plain": [
       "int"
      ]
     },
     "execution_count": 36,
     "metadata": {},
     "output_type": "execute_result"
    }
   ],
   "source": [
    "type(supram)"
   ]
  },
  {
   "cell_type": "code",
   "execution_count": 37,
   "id": "27dc5b80-6723-439a-a7da-54ee2da85c33",
   "metadata": {},
   "outputs": [],
   "source": [
    "a=supram"
   ]
  },
  {
   "cell_type": "code",
   "execution_count": 38,
   "id": "05f94bed-64c8-46c9-8c00-7796a1c330f2",
   "metadata": {},
   "outputs": [
    {
     "data": {
      "text/plain": [
       "int"
      ]
     },
     "execution_count": 38,
     "metadata": {},
     "output_type": "execute_result"
    }
   ],
   "source": [
    "type(a)"
   ]
  },
  {
   "cell_type": "code",
   "execution_count": 39,
   "id": "7658aff9-a883-4dce-9ded-f685957bc0be",
   "metadata": {},
   "outputs": [],
   "source": [
    "b=2"
   ]
  },
  {
   "cell_type": "code",
   "execution_count": 42,
   "id": "e2bd2364-9fdf-4847-9a60-58d5db4a92ac",
   "metadata": {},
   "outputs": [],
   "source": [
    "c=3"
   ]
  },
  {
   "cell_type": "code",
   "execution_count": 44,
   "id": "320dec12-3ffa-48bb-86bd-15cce8075a18",
   "metadata": {},
   "outputs": [
    {
     "ename": "NameError",
     "evalue": "name 'C' is not defined",
     "output_type": "error",
     "traceback": [
      "\u001b[0;31m---------------------------------------------------------------------------\u001b[0m",
      "\u001b[0;31mNameError\u001b[0m                                 Traceback (most recent call last)",
      "Cell \u001b[0;32mIn[44], line 1\u001b[0m\n\u001b[0;32m----> 1\u001b[0m b\u001b[38;5;241m+\u001b[39m\u001b[43mC\u001b[49m\n",
      "\u001b[0;31mNameError\u001b[0m: name 'C' is not defined"
     ]
    }
   ],
   "source": [
    "b+C"
   ]
  },
  {
   "cell_type": "code",
   "execution_count": 45,
   "id": "d04dd280-d42a-4fba-92cc-58180caaa6e7",
   "metadata": {},
   "outputs": [],
   "source": [
    "t=20"
   ]
  },
  {
   "cell_type": "code",
   "execution_count": 46,
   "id": "cde240b9-ef57-4414-9a2e-3c8d6e31d057",
   "metadata": {},
   "outputs": [],
   "source": [
    "x=10"
   ]
  },
  {
   "cell_type": "code",
   "execution_count": 47,
   "id": "e5efa58b-0a07-4144-8b01-acae5ef6114d",
   "metadata": {},
   "outputs": [
    {
     "data": {
      "text/plain": [
       "30"
      ]
     },
     "execution_count": 47,
     "metadata": {},
     "output_type": "execute_result"
    }
   ],
   "source": [
    "t+x"
   ]
  },
  {
   "cell_type": "code",
   "execution_count": 57,
   "id": "4866da3a-59d2-429c-b339-f28ca85b3232",
   "metadata": {},
   "outputs": [],
   "source": [
    "q= \"supram\""
   ]
  },
  {
   "cell_type": "code",
   "execution_count": 55,
   "id": "792dc310-da71-4946-884a-a5dc3750c0c3",
   "metadata": {},
   "outputs": [],
   "source": [
    "z=10"
   ]
  },
  {
   "cell_type": "code",
   "execution_count": 58,
   "id": "264f4610-3bb0-4529-9989-ba3c4df5245b",
   "metadata": {},
   "outputs": [
    {
     "data": {
      "text/plain": [
       "'10supram'"
      ]
     },
     "execution_count": 58,
     "metadata": {},
     "output_type": "execute_result"
    }
   ],
   "source": [
    "str(z)+q"
   ]
  },
  {
   "cell_type": "code",
   "execution_count": 59,
   "id": "e2c0d454-4a4e-48cc-916a-2bb18821e6d1",
   "metadata": {},
   "outputs": [
    {
     "name": "stdin",
     "output_type": "stream",
     "text": [
      " 3443\n"
     ]
    }
   ],
   "source": [
    "y=input()"
   ]
  },
  {
   "cell_type": "code",
   "execution_count": 60,
   "id": "da81f391-b958-429b-9f01-99ef0860d70c",
   "metadata": {},
   "outputs": [
    {
     "data": {
      "text/plain": [
       "'3443'"
      ]
     },
     "execution_count": 60,
     "metadata": {},
     "output_type": "execute_result"
    }
   ],
   "source": [
    "y"
   ]
  },
  {
   "cell_type": "code",
   "execution_count": 61,
   "id": "1a2a26a4-ee20-4f53-b4aa-df47ff2b5a45",
   "metadata": {},
   "outputs": [
    {
     "data": {
      "text/plain": [
       "str"
      ]
     },
     "execution_count": 61,
     "metadata": {},
     "output_type": "execute_result"
    }
   ],
   "source": [
    "type(y)"
   ]
  },
  {
   "cell_type": "code",
   "execution_count": 62,
   "id": "e700721d-1d49-4902-b271-31de8c4bbaa1",
   "metadata": {},
   "outputs": [
    {
     "name": "stdin",
     "output_type": "stream",
     "text": [
      " 2345\n"
     ]
    }
   ],
   "source": [
    "w=int(input())"
   ]
  },
  {
   "cell_type": "code",
   "execution_count": 63,
   "id": "ed0b1c40-3b26-4bc4-b278-0a09706177bc",
   "metadata": {},
   "outputs": [
    {
     "data": {
      "text/plain": [
       "int"
      ]
     },
     "execution_count": 63,
     "metadata": {},
     "output_type": "execute_result"
    }
   ],
   "source": [
    "type(w) "
   ]
  }
 ],
 "metadata": {
  "kernelspec": {
   "display_name": "Python 3 (ipykernel)",
   "language": "python",
   "name": "python3"
  },
  "language_info": {
   "codemirror_mode": {
    "name": "ipython",
    "version": 3
   },
   "file_extension": ".py",
   "mimetype": "text/x-python",
   "name": "python",
   "nbconvert_exporter": "python",
   "pygments_lexer": "ipython3",
   "version": "3.10.8"
  }
 },
 "nbformat": 4,
 "nbformat_minor": 5
}
