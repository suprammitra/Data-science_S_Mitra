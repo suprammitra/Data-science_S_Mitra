{
 "cells": [
  {
   "cell_type": "markdown",
   "id": "8f0dc877-9430-4cee-9a90-c40a55e0f87e",
   "metadata": {},
   "source": [
    "### calculate increament"
   ]
  },
  {
   "cell_type": "code",
   "execution_count": 14,
   "id": "0d9c2077-00f1-49c3-9858-805dbbe0b7ea",
   "metadata": {},
   "outputs": [],
   "source": [
    "a=50000"
   ]
  },
  {
   "cell_type": "code",
   "execution_count": 16,
   "id": "23acae77-37f0-4637-a4d8-f6e5a7692730",
   "metadata": {},
   "outputs": [
    {
     "name": "stdin",
     "output_type": "stream",
     "text": [
      "enter expected percent 60\n"
     ]
    },
    {
     "name": "stdout",
     "output_type": "stream",
     "text": [
      "monthly sallary after increment is 3266.666666666667\n"
     ]
    }
   ],
   "source": [
    "percent=int(input(\"enter expected percent\"))\n",
    "            \n",
    "print(f\"monthly sallary after increment is {((a+(percent/100)*a)/12)-3400}\")"
   ]
  },
  {
   "cell_type": "markdown",
   "id": "bb7b3c49-135d-4203-9518-d637855f8d1e",
   "metadata": {},
   "source": [
    "### calculate your age"
   ]
  },
  {
   "cell_type": "code",
   "execution_count": 3,
   "id": "fe2e47f9-187f-4953-97d5-d70910e914a1",
   "metadata": {},
   "outputs": [
    {
     "name": "stdin",
     "output_type": "stream",
     "text": [
      "birth year 1968\n"
     ]
    },
    {
     "name": "stdout",
     "output_type": "stream",
     "text": [
      "your age is 55\n"
     ]
    }
   ],
   "source": [
    "birth_year=int(input(\"birth year\"))\n",
    "\n",
    "print(f\"your age is {2023-birth_year}\")"
   ]
  },
  {
   "cell_type": "code",
   "execution_count": 4,
   "id": "a3a05edf-2ad5-45e8-a827-ef95da761746",
   "metadata": {},
   "outputs": [],
   "source": [
    "## SAVINGS CALCULATOR"
   ]
  },
  {
   "cell_type": "code",
   "execution_count": 5,
   "id": "237b500f-eb67-4e3a-b618-15a286d442e3",
   "metadata": {},
   "outputs": [],
   "source": [
    "b=15000"
   ]
  },
  {
   "cell_type": "code",
   "execution_count": 14,
   "id": "eba8c57b-80e2-4b6f-8990-cceb74e2ca0b",
   "metadata": {},
   "outputs": [
    {
     "name": "stdin",
     "output_type": "stream",
     "text": [
      "enter years 5\n"
     ]
    },
    {
     "name": "stdout",
     "output_type": "stream",
     "text": [
      " sum principle amount is 945000.0\n"
     ]
    }
   ],
   "source": [
    "years=int(input(\"enter years\"))\n",
    "\n",
    "print(\" sum principle amount is {}\".format((years*12*b)+((years*12*b)*5)/100))"
   ]
  }
 ],
 "metadata": {
  "kernelspec": {
   "display_name": "Python 3 (ipykernel)",
   "language": "python",
   "name": "python3"
  },
  "language_info": {
   "codemirror_mode": {
    "name": "ipython",
    "version": 3
   },
   "file_extension": ".py",
   "mimetype": "text/x-python",
   "name": "python",
   "nbconvert_exporter": "python",
   "pygments_lexer": "ipython3",
   "version": "3.10.8"
  }
 },
 "nbformat": 4,
 "nbformat_minor": 5
}
