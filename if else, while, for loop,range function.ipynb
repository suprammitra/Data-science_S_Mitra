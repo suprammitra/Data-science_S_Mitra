{
 "cells": [
  {
   "cell_type": "code",
   "execution_count": 1,
   "id": "3b56e0fc-f6b4-45eb-a812-a4eaf96622db",
   "metadata": {},
   "outputs": [],
   "source": [
    "a=10"
   ]
  },
  {
   "cell_type": "code",
   "execution_count": 2,
   "id": "cea84d1f-2e67-48c0-a7fe-103a72861ea9",
   "metadata": {},
   "outputs": [
    {
     "data": {
      "text/plain": [
       "10"
      ]
     },
     "execution_count": 2,
     "metadata": {},
     "output_type": "execute_result"
    }
   ],
   "source": [
    "a"
   ]
  },
  {
   "cell_type": "code",
   "execution_count": 36,
   "id": "f97db198-c14e-4251-87cf-686e3c70092f",
   "metadata": {},
   "outputs": [],
   "source": [
    "b=\"I LOVE YOU\""
   ]
  },
  {
   "cell_type": "code",
   "execution_count": null,
   "id": "8a7cb0a3-34be-4f56-b451-7be4efe35ca0",
   "metadata": {},
   "outputs": [],
   "source": []
  },
  {
   "cell_type": "code",
   "execution_count": 8,
   "id": "8831fbbe-f310-4518-b2bb-7cbc95a5c7ff",
   "metadata": {},
   "outputs": [
    {
     "name": "stdout",
     "output_type": "stream",
     "text": [
      "1\n",
      "2\n",
      "3\n",
      "4\n",
      "5\n",
      "6\n",
      "7\n",
      "8\n",
      "9\n",
      "this this a loop\n"
     ]
    }
   ],
   "source": [
    "n=10\n",
    "i=1\n",
    "while i<n:\n",
    "    print(i)\n",
    "    i=i+1\n",
    "else:\n",
    "    print(\"this this a loop\")"
   ]
  },
  {
   "cell_type": "code",
   "execution_count": 16,
   "id": "72d3d73f-e7cc-47b4-a9ed-65244ba16233",
   "metadata": {},
   "outputs": [
    {
     "name": "stdout",
     "output_type": "stream",
     "text": [
      "1\n",
      "2\n"
     ]
    }
   ],
   "source": [
    "n=10\n",
    "i=1\n",
    "while i<n:\n",
    "    print(i)\n",
    "    i=i+1\n",
    "    if i==3:\n",
    "        break\n",
    "else:\n",
    "    print(\"this this a loop\")"
   ]
  },
  {
   "cell_type": "code",
   "execution_count": 19,
   "id": "4bcad05a-5113-4728-8fbb-0a16381becf2",
   "metadata": {},
   "outputs": [
    {
     "name": "stdout",
     "output_type": "stream",
     "text": [
      "2\n",
      "3\n",
      "4\n",
      "6\n",
      "7\n",
      "8\n",
      "9\n",
      "10\n"
     ]
    }
   ],
   "source": [
    "n=10\n",
    "i=1\n",
    "while i<n:\n",
    "    i=i+1\n",
    "    if i==5:\n",
    "        continue\n",
    "    print(i)\n",
    "        \n",
    "    \n"
   ]
  },
  {
   "cell_type": "code",
   "execution_count": null,
   "id": "12781459-f42a-40ee-be13-3b1e3a547856",
   "metadata": {},
   "outputs": [],
   "source": [
    "#for loop"
   ]
  },
  {
   "cell_type": "code",
   "execution_count": 20,
   "id": "ca2b2756-b55a-43a9-983e-03764c3d9ec4",
   "metadata": {},
   "outputs": [],
   "source": [
    "s=\"supram\""
   ]
  },
  {
   "cell_type": "code",
   "execution_count": 21,
   "id": "2e9b2ca4-b39e-455c-9a28-0a82122bc0d2",
   "metadata": {},
   "outputs": [
    {
     "name": "stdout",
     "output_type": "stream",
     "text": [
      "s\n",
      "u\n",
      "p\n",
      "r\n",
      "a\n",
      "m\n"
     ]
    }
   ],
   "source": [
    "for i in s:\n",
    "    print(i)"
   ]
  },
  {
   "cell_type": "code",
   "execution_count": 24,
   "id": "4b59d418-9495-43cd-8ab5-db520d0b78a2",
   "metadata": {},
   "outputs": [],
   "source": [
    "l=[2,\"surbhi\",\"hello\", True, 34, 5+3j]"
   ]
  },
  {
   "cell_type": "code",
   "execution_count": 27,
   "id": "d5c2dd8f-7934-49d3-ab8c-d6e0a57c1af1",
   "metadata": {},
   "outputs": [
    {
     "name": "stdout",
     "output_type": "stream",
     "text": [
      "2\n",
      "surbhi\n",
      "hello\n",
      "True\n",
      "34\n",
      "(5+3j)\n",
      "done\n"
     ]
    }
   ],
   "source": [
    "for i in l:\n",
    "    print(i)\n",
    "else :\n",
    "    print(\"done\")"
   ]
  },
  {
   "cell_type": "code",
   "execution_count": 35,
   "id": "4a9cbb75-9e5a-4f30-8363-ba97b439cd90",
   "metadata": {},
   "outputs": [
    {
     "name": "stdout",
     "output_type": "stream",
     "text": [
      "2\n",
      "surbhi\n",
      "hello\n"
     ]
    }
   ],
   "source": [
    "for i in l:\n",
    "    print(i)\n",
    "    if i==\"hello\":\n",
    "        break\n",
    "else :\n",
    "    print(\"done\")"
   ]
  },
  {
   "cell_type": "code",
   "execution_count": 37,
   "id": "9d793185-5b27-4fc9-aadd-90a1eef84bae",
   "metadata": {},
   "outputs": [
    {
     "data": {
      "text/plain": [
       "'I LOVE YOU'"
      ]
     },
     "execution_count": 37,
     "metadata": {},
     "output_type": "execute_result"
    }
   ],
   "source": [
    "b"
   ]
  },
  {
   "cell_type": "code",
   "execution_count": 39,
   "id": "fdd54312-9dc5-4b93-b52a-ee28b472da54",
   "metadata": {},
   "outputs": [
    {
     "data": {
      "text/plain": [
       "[0, 1, 2, 3, 4, 5, 6, 7, 8, 9]"
      ]
     },
     "execution_count": 39,
     "metadata": {},
     "output_type": "execute_result"
    }
   ],
   "source": [
    "list(range(10))"
   ]
  }
 ],
 "metadata": {
  "kernelspec": {
   "display_name": "Python 3 (ipykernel)",
   "language": "python",
   "name": "python3"
  },
  "language_info": {
   "codemirror_mode": {
    "name": "ipython",
    "version": 3
   },
   "file_extension": ".py",
   "mimetype": "text/x-python",
   "name": "python",
   "nbconvert_exporter": "python",
   "pygments_lexer": "ipython3",
   "version": "3.10.8"
  }
 },
 "nbformat": 4,
 "nbformat_minor": 5
}
