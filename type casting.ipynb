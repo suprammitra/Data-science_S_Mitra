{
 "cells": [
  {
   "cell_type": "code",
   "execution_count": 1,
   "id": "006c4d10-f098-4af8-930f-938cb07a7363",
   "metadata": {},
   "outputs": [],
   "source": [
    "a=10"
   ]
  },
  {
   "cell_type": "code",
   "execution_count": 1,
   "id": "bfdc4d8e-ae94-44a3-b840-71c47d2edcc4",
   "metadata": {},
   "outputs": [
    {
     "name": "stdout",
     "output_type": "stream",
     "text": [
      "hello world\n"
     ]
    }
   ],
   "source": [
    "print(\"hello world\")"
   ]
  },
  {
   "cell_type": "code",
   "execution_count": null,
   "id": "ba6f7c58-e7e5-48c2-bc2a-1489170b5d49",
   "metadata": {},
   "outputs": [],
   "source": [
    "print(\"hello world\")"
   ]
  },
  {
   "cell_type": "code",
   "execution_count": 2,
   "id": "6ad71782-ce6a-4925-a823-1d7dbcc914e5",
   "metadata": {},
   "outputs": [],
   "source": [
    "name=\"supram\"\n",
    "company=\"livsp[ace\""
   ]
  },
  {
   "cell_type": "markdown",
   "id": "5d0a5b43-3a88-4421-aeea-93280aba4cb2",
   "metadata": {},
   "source": [
    "## variable assignment"
   ]
  },
  {
   "cell_type": "code",
   "execution_count": 3,
   "id": "c1466c94-bc24-4874-8420-ea8767a6d954",
   "metadata": {},
   "outputs": [
    {
     "data": {
      "text/plain": [
       "'supram'"
      ]
     },
     "execution_count": 3,
     "metadata": {},
     "output_type": "execute_result"
    }
   ],
   "source": [
    "name"
   ]
  },
  {
   "cell_type": "code",
   "execution_count": 4,
   "id": "1653de56-30a1-478b-b376-b1c451943291",
   "metadata": {},
   "outputs": [
    {
     "data": {
      "text/plain": [
       "'livsp[ace'"
      ]
     },
     "execution_count": 4,
     "metadata": {},
     "output_type": "execute_result"
    }
   ],
   "source": [
    "company"
   ]
  },
  {
   "cell_type": "markdown",
   "id": "9a3c7000-a803-4558-9885-f2b8edd236c1",
   "metadata": {},
   "source": [
    "### type casting"
   ]
  },
  {
   "cell_type": "code",
   "execution_count": 5,
   "id": "5380e82d-c933-4cf3-866c-a2c97fc2b75b",
   "metadata": {},
   "outputs": [
    {
     "data": {
      "text/plain": [
       "True"
      ]
     },
     "execution_count": 5,
     "metadata": {},
     "output_type": "execute_result"
    }
   ],
   "source": [
    "True\n"
   ]
  },
  {
   "cell_type": "code",
   "execution_count": 6,
   "id": "54410c74-79df-419c-b383-f23424390505",
   "metadata": {},
   "outputs": [
    {
     "data": {
      "text/plain": [
       "bool"
      ]
     },
     "execution_count": 6,
     "metadata": {},
     "output_type": "execute_result"
    }
   ],
   "source": [
    "type(True)"
   ]
  },
  {
   "cell_type": "code",
   "execution_count": 8,
   "id": "88c7cb3c-11bb-417a-b96d-2fe9c94ccc43",
   "metadata": {},
   "outputs": [
    {
     "data": {
      "text/plain": [
       "False"
      ]
     },
     "execution_count": 8,
     "metadata": {},
     "output_type": "execute_result"
    }
   ],
   "source": [
    "bool(0)"
   ]
  },
  {
   "cell_type": "code",
   "execution_count": 9,
   "id": "94d46d41-9b81-4311-a00d-4be9945c3721",
   "metadata": {},
   "outputs": [
    {
     "data": {
      "text/plain": [
       "True"
      ]
     },
     "execution_count": 9,
     "metadata": {},
     "output_type": "execute_result"
    }
   ],
   "source": [
    "bool(2)"
   ]
  },
  {
   "cell_type": "code",
   "execution_count": 10,
   "id": "fb52ea4d-3a13-42e5-93e2-596078533143",
   "metadata": {},
   "outputs": [
    {
     "data": {
      "text/plain": [
       "True"
      ]
     },
     "execution_count": 10,
     "metadata": {},
     "output_type": "execute_result"
    }
   ],
   "source": [
    "bool(3)"
   ]
  },
  {
   "cell_type": "code",
   "execution_count": 11,
   "id": "94544691-919e-4c57-910a-69070a2a5ef8",
   "metadata": {},
   "outputs": [
    {
     "data": {
      "text/plain": [
       "23"
      ]
     },
     "execution_count": 11,
     "metadata": {},
     "output_type": "execute_result"
    }
   ],
   "source": [
    "int('23')"
   ]
  },
  {
   "cell_type": "code",
   "execution_count": 12,
   "id": "70819167-0140-448b-a3be-c08b41f18ac3",
   "metadata": {},
   "outputs": [
    {
     "data": {
      "text/plain": [
       "int"
      ]
     },
     "execution_count": 12,
     "metadata": {},
     "output_type": "execute_result"
    }
   ],
   "source": [
    "type(int('23'))"
   ]
  },
  {
   "cell_type": "code",
   "execution_count": 13,
   "id": "4b1606c0-acd4-457f-b946-6f852f801e24",
   "metadata": {},
   "outputs": [
    {
     "data": {
      "text/plain": [
       "2"
      ]
     },
     "execution_count": 13,
     "metadata": {},
     "output_type": "execute_result"
    }
   ],
   "source": [
    "int(2.45677)"
   ]
  },
  {
   "cell_type": "markdown",
   "id": "23a9fc13-0b4c-4ab7-8d50-ba256b713229",
   "metadata": {},
   "source": [
    "## dynamic typing"
   ]
  },
  {
   "cell_type": "code",
   "execution_count": null,
   "id": "d8818c65-614b-4985-ba67-7e1a0b803704",
   "metadata": {},
   "outputs": [],
   "source": []
  },
  {
   "cell_type": "code",
   "execution_count": null,
   "id": "7bab8dd6-e7e1-4370-a7c9-2a86dc3a1d91",
   "metadata": {},
   "outputs": [],
   "source": []
  },
  {
   "cell_type": "code",
   "execution_count": null,
   "id": "a657beb5-55c7-46ee-a942-9a2c8f54e448",
   "metadata": {},
   "outputs": [],
   "source": []
  },
  {
   "cell_type": "code",
   "execution_count": 15,
   "id": "e8bb7f77-daa0-4df8-8712-492e2ebf03b2",
   "metadata": {},
   "outputs": [
    {
     "data": {
      "text/plain": [
       "'11'"
      ]
     },
     "execution_count": 15,
     "metadata": {},
     "output_type": "execute_result"
    }
   ],
   "source": [
    "\"1\"+\"1\""
   ]
  },
  {
   "cell_type": "code",
   "execution_count": 16,
   "id": "8c16b42a-48f6-448a-849f-4f7bc77306fc",
   "metadata": {},
   "outputs": [
    {
     "data": {
      "text/plain": [
       "'2222222222'"
      ]
     },
     "execution_count": 16,
     "metadata": {},
     "output_type": "execute_result"
    }
   ],
   "source": [
    "\"2\"*10"
   ]
  },
  {
   "cell_type": "code",
   "execution_count": 17,
   "id": "e1377ae7-41b2-449f-a163-3e89224b12d0",
   "metadata": {},
   "outputs": [
    {
     "data": {
      "text/plain": [
       "'34'"
      ]
     },
     "execution_count": 17,
     "metadata": {},
     "output_type": "execute_result"
    }
   ],
   "source": [
    "\"3\"+\"4\""
   ]
  },
  {
   "cell_type": "code",
   "execution_count": 18,
   "id": "7e9f7fa0-12f4-42f2-a42b-31715a76b5e4",
   "metadata": {},
   "outputs": [],
   "source": [
    "e=5\n"
   ]
  },
  {
   "cell_type": "code",
   "execution_count": null,
   "id": "ad5ba9d2-8a4a-4f24-af18-50120d04d57b",
   "metadata": {},
   "outputs": [],
   "source": []
  },
  {
   "cell_type": "code",
   "execution_count": null,
   "id": "3bdc6d52-d961-41bc-88f0-4d1aed2a26d0",
   "metadata": {},
   "outputs": [],
   "source": []
  },
  {
   "cell_type": "code",
   "execution_count": null,
   "id": "10010ec3-8612-4d15-aab3-fde2803b3942",
   "metadata": {},
   "outputs": [],
   "source": []
  },
  {
   "cell_type": "code",
   "execution_count": null,
   "id": "8f6612ac-44ce-4602-a10a-41acda5834dc",
   "metadata": {},
   "outputs": [],
   "source": []
  },
  {
   "cell_type": "code",
   "execution_count": null,
   "id": "c50a3001-aab4-45c4-8c90-be866af08fad",
   "metadata": {},
   "outputs": [],
   "source": []
  }
 ],
 "metadata": {
  "kernelspec": {
   "display_name": "Python 3 (ipykernel)",
   "language": "python",
   "name": "python3"
  },
  "language_info": {
   "codemirror_mode": {
    "name": "ipython",
    "version": 3
   },
   "file_extension": ".py",
   "mimetype": "text/x-python",
   "name": "python",
   "nbconvert_exporter": "python",
   "pygments_lexer": "ipython3",
   "version": "3.10.8"
  }
 },
 "nbformat": 4,
 "nbformat_minor": 5
}
