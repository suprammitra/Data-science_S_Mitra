{
 "cells": [
  {
   "cell_type": "code",
   "execution_count": null,
   "id": "555e54a4-4c60-4da2-aa02-87eae223b925",
   "metadata": {},
   "outputs": [],
   "source": [
    "# single statement"
   ]
  },
  {
   "cell_type": "code",
   "execution_count": 1,
   "id": "a7f686e2-8a92-4523-80af-2ae0702bcb93",
   "metadata": {},
   "outputs": [
    {
     "name": "stdin",
     "output_type": "stream",
     "text": [
      "enter price 677\n"
     ]
    },
    {
     "name": "stdout",
     "output_type": "stream",
     "text": [
      "less than 999\n"
     ]
    }
   ],
   "source": [
    "price=int(input(\"enter price\"))\n",
    "\n",
    "if (price<900): print(\"less than 999\")\n",
    "else: print(\"more than 999\")"
   ]
  },
  {
   "cell_type": "markdown",
   "id": "18aca44e-64ed-4a89-b73d-6b8a2e2a1610",
   "metadata": {},
   "source": [
    "# Loop statements\n",
    "### while loop\n",
    "### for loop\n",
    "### nested loop\n",
    "### loop control ( break, continue and pass)"
   ]
  },
  {
   "cell_type": "code",
   "execution_count": 2,
   "id": "be0b40a5-4165-41df-b81d-d7235c5e91b8",
   "metadata": {},
   "outputs": [
    {
     "name": "stdout",
     "output_type": "stream",
     "text": [
      "25\n",
      "26\n",
      "27\n",
      "28\n",
      "29\n",
      "30\n",
      "31\n",
      "32\n",
      "33\n",
      "34\n",
      "35\n",
      "36\n",
      "37\n",
      "38\n",
      "39\n",
      "40\n",
      "41\n",
      "42\n",
      "43\n",
      "44\n",
      "45\n",
      "46\n",
      "47\n",
      "48\n",
      "49\n",
      "50\n",
      "51\n",
      "52\n",
      "53\n",
      "54\n",
      "55\n",
      "56\n",
      "57\n",
      "58\n",
      "59\n",
      "60\n",
      "retirement\n"
     ]
    }
   ],
   "source": [
    "#while loop\n",
    "\n",
    "joining_age=25\n",
    "while joining_age<=60:\n",
    "    print(joining_age)\n",
    "    joining_age=joining_age+1\n",
    "else:\n",
    "    print(\"retirement\")"
   ]
  },
  {
   "cell_type": "code",
   "execution_count": 5,
   "id": "6a3284a3-23f4-4f97-ad66-91b93ee298b9",
   "metadata": {},
   "outputs": [
    {
     "name": "stdout",
     "output_type": "stream",
     "text": [
      "2000\n",
      "1800\n",
      "1600\n",
      "1400\n",
      "1200\n",
      "1000\n",
      "800\n",
      "600\n",
      "400\n",
      "200\n",
      "no money\n"
     ]
    }
   ],
   "source": [
    "total_amount=2000\n",
    "while total_amount !=0:\n",
    "    print(total_amount)\n",
    "    total_amount=total_amount-200\n",
    "else:\n",
    "    print(\"no money\")"
   ]
  },
  {
   "cell_type": "markdown",
   "id": "d0c528c2-21c2-423c-8885-cb8e7bd2a60a",
   "metadata": {},
   "source": [
    "# for loop"
   ]
  },
  {
   "cell_type": "code",
   "execution_count": 6,
   "id": "1239fc7c-ed4e-4765-99d0-0d229ef33b81",
   "metadata": {},
   "outputs": [],
   "source": [
    "lst=[\"supram\", \"india\", 2,45,56,7]"
   ]
  },
  {
   "cell_type": "code",
   "execution_count": 7,
   "id": "905b529b-6d10-4de3-a7f8-2598f7e18f75",
   "metadata": {},
   "outputs": [
    {
     "data": {
      "text/plain": [
       "'supram'"
      ]
     },
     "execution_count": 7,
     "metadata": {},
     "output_type": "execute_result"
    }
   ],
   "source": [
    "lst[0]"
   ]
  },
  {
   "cell_type": "code",
   "execution_count": 8,
   "id": "5187e9d8-4bf4-4d46-a8c3-230efe3b4136",
   "metadata": {},
   "outputs": [
    {
     "data": {
      "text/plain": [
       "7"
      ]
     },
     "execution_count": 8,
     "metadata": {},
     "output_type": "execute_result"
    }
   ],
   "source": [
    "lst[-1]"
   ]
  },
  {
   "cell_type": "code",
   "execution_count": 9,
   "id": "b36fb7df-c0ef-4f7a-ad76-bb29703dfbc1",
   "metadata": {},
   "outputs": [
    {
     "data": {
      "text/plain": [
       "7"
      ]
     },
     "execution_count": 9,
     "metadata": {},
     "output_type": "execute_result"
    }
   ],
   "source": [
    "lst[5]"
   ]
  },
  {
   "cell_type": "code",
   "execution_count": 10,
   "id": "a923f576-3081-4cf0-b97b-c3a79031c2f0",
   "metadata": {},
   "outputs": [
    {
     "data": {
      "text/plain": [
       "['supram', 'india', 2, 45, 56, 7]"
      ]
     },
     "execution_count": 10,
     "metadata": {},
     "output_type": "execute_result"
    }
   ],
   "source": [
    "lst"
   ]
  },
  {
   "cell_type": "code",
   "execution_count": 11,
   "id": "0074b8fd-0db2-4573-9008-dd2f71454868",
   "metadata": {},
   "outputs": [
    {
     "name": "stdout",
     "output_type": "stream",
     "text": [
      "supram\n",
      "india\n",
      "2\n",
      "45\n",
      "56\n",
      "7\n"
     ]
    }
   ],
   "source": [
    "for x in lst:\n",
    "    print(x)"
   ]
  },
  {
   "cell_type": "code",
   "execution_count": 28,
   "id": "b4585f25-ccdb-4f01-af9e-2c5c15f60256",
   "metadata": {},
   "outputs": [],
   "source": [
    "lst=[\"rahul\",\"rohan\",\"surbhi\",34,56]"
   ]
  },
  {
   "cell_type": "code",
   "execution_count": 29,
   "id": "4e543ed3-2795-4b93-aa0f-0c0e53dde13f",
   "metadata": {},
   "outputs": [
    {
     "data": {
      "text/plain": [
       "'surbhi'"
      ]
     },
     "execution_count": 29,
     "metadata": {},
     "output_type": "execute_result"
    }
   ],
   "source": [
    "lst[2]"
   ]
  },
  {
   "cell_type": "code",
   "execution_count": 30,
   "id": "b277664d-fbfc-4b70-8544-02793146d341",
   "metadata": {},
   "outputs": [
    {
     "data": {
      "text/plain": [
       "['rahul', 'rohan', 'surbhi', 34, 56]"
      ]
     },
     "execution_count": 30,
     "metadata": {},
     "output_type": "execute_result"
    }
   ],
   "source": [
    "lst"
   ]
  },
  {
   "cell_type": "code",
   "execution_count": 31,
   "id": "49263bba-1502-4b68-adac-34a95ae125d8",
   "metadata": {},
   "outputs": [
    {
     "name": "stdout",
     "output_type": "stream",
     "text": [
      "rahul\n",
      "rohan\n",
      "surbhi\n",
      "34\n",
      "56\n"
     ]
    }
   ],
   "source": [
    "for a in lst:\n",
    "    print(a)"
   ]
  },
  {
   "cell_type": "code",
   "execution_count": 33,
   "id": "09558285-b00a-4e78-bcbd-682f2e87a2d5",
   "metadata": {},
   "outputs": [
    {
     "name": "stdout",
     "output_type": "stream",
     "text": [
      "b\n",
      "a\n",
      "n\n",
      "a\n",
      "n\n",
      "a\n"
     ]
    }
   ],
   "source": [
    "fruit=\"banana\"\n",
    "for x in fruit:\n",
    "    print(x)"
   ]
  },
  {
   "cell_type": "code",
   "execution_count": 35,
   "id": "8030c450-854f-4dd6-be48-aac5ee9fe7e8",
   "metadata": {},
   "outputs": [
    {
     "name": "stdout",
     "output_type": "stream",
     "text": [
      "banana"
     ]
    }
   ],
   "source": [
    "fruit=\"banana\"\n",
    "for x in fruit:\n",
    "    print(x,end='')"
   ]
  },
  {
   "cell_type": "markdown",
   "id": "38fb8887-17c8-41a4-935d-1a56ed255631",
   "metadata": {},
   "source": [
    "## nested loop"
   ]
  },
  {
   "cell_type": "code",
   "execution_count": 37,
   "id": "d7ddf573-8b2a-440b-bf72-8cb7c4974b6a",
   "metadata": {},
   "outputs": [
    {
     "name": "stdout",
     "output_type": "stream",
     "text": [
      "1\n",
      "2\n",
      "3\n",
      "4\n",
      "5\n",
      "6\n",
      "7\n",
      "8\n",
      "9\n",
      "10\n",
      "11\n",
      "12\n",
      "13\n",
      "14\n",
      "15\n",
      "16\n",
      "17\n",
      "18\n",
      "19\n"
     ]
    }
   ],
   "source": [
    "for i in range(1,20):\n",
    "    print(i)"
   ]
  },
  {
   "cell_type": "code",
   "execution_count": 38,
   "id": "8a39f76f-246a-4572-9d14-9d3fa5920c72",
   "metadata": {},
   "outputs": [
    {
     "name": "stdout",
     "output_type": "stream",
     "text": [
      "1\n",
      "3\n",
      "5\n",
      "7\n",
      "9\n",
      "11\n",
      "13\n",
      "15\n",
      "17\n",
      "19\n"
     ]
    }
   ],
   "source": [
    "for i in range(1,20,2):\n",
    "    print(i)"
   ]
  },
  {
   "cell_type": "code",
   "execution_count": 39,
   "id": "bfcef177-7251-4186-805d-c7f1ff82ac02",
   "metadata": {},
   "outputs": [
    {
     "name": "stdout",
     "output_type": "stream",
     "text": [
      "1\n",
      "4\n",
      "7\n",
      "10\n",
      "13\n",
      "16\n",
      "19\n"
     ]
    }
   ],
   "source": [
    "for i in range(1,20,3):\n",
    "    print(i)"
   ]
  },
  {
   "cell_type": "code",
   "execution_count": 46,
   "id": "6b1d566e-b70a-428d-9ca3-46a83252595a",
   "metadata": {},
   "outputs": [
    {
     "name": "stdout",
     "output_type": "stream",
     "text": [
      "*\n",
      "**\n",
      "***\n",
      "****\n",
      "*****\n",
      "******\n",
      "*******\n",
      "********\n",
      "*********\n",
      "**********\n"
     ]
    }
   ],
   "source": [
    "n=10\n",
    "for i in range(0,n):\n",
    "    for j in range(0,i+1):\n",
    "        print(\"*\",end=\"\")\n",
    "    print(\"\\r\")\n",
    "    \n",
    "    "
   ]
  },
  {
   "cell_type": "code",
   "execution_count": 55,
   "id": "5c013696-9e25-48fb-bf25-228afac005aa",
   "metadata": {},
   "outputs": [
    {
     "name": "stdout",
     "output_type": "stream",
     "text": [
      "**\n",
      "***\n",
      "****\n",
      "*****\n",
      "******\n",
      "*******\n",
      "********\n",
      "*********\n",
      "**********\n",
      "***********\n"
     ]
    }
   ],
   "source": [
    "n=10\n",
    "for i in range(0,n):\n",
    "    for j in range(0,i+2):\n",
    "        print(\"*\",end=\"\")\n",
    "    print(\"\\r\")"
   ]
  },
  {
   "cell_type": "code",
   "execution_count": 56,
   "id": "619aba53-4c82-4b95-845b-ae463deffcd9",
   "metadata": {},
   "outputs": [],
   "source": [
    "# loop control"
   ]
  },
  {
   "cell_type": "code",
   "execution_count": 61,
   "id": "233496aa-b741-4fda-8b20-e43e2ac2569a",
   "metadata": {},
   "outputs": [],
   "source": [
    "fruit_list=[\"mango\",\"banana\",\"apple\",\"pineapple\",\"grapes\",\"cherry\"]"
   ]
  },
  {
   "cell_type": "code",
   "execution_count": 64,
   "id": "4a2c4606-58f9-410b-a16d-ad98e31bdb90",
   "metadata": {},
   "outputs": [
    {
     "name": "stdout",
     "output_type": "stream",
     "text": [
      "mango\n",
      "banana\n",
      "the fruit is apple\n"
     ]
    }
   ],
   "source": [
    "for i in fruit_list:\n",
    "    if i==\"apple\":\n",
    "        print(\"the fruit is apple\")\n",
    "        break\n",
    "    \n",
    "    print(i)\n",
    "    \n"
   ]
  },
  {
   "cell_type": "code",
   "execution_count": 65,
   "id": "7c9a83bf-eec5-48a1-b7fe-5af5b97d5e64",
   "metadata": {},
   "outputs": [],
   "source": [
    "n=[1,223,45,67,89]"
   ]
  },
  {
   "cell_type": "code",
   "execution_count": 70,
   "id": "ddfe1e42-ec95-48de-a7c8-8e6e48395565",
   "metadata": {},
   "outputs": [
    {
     "name": "stdout",
     "output_type": "stream",
     "text": [
      "1\n",
      "223\n",
      "its 45\n"
     ]
    }
   ],
   "source": [
    "for i in n:\n",
    "    if i==45:\n",
    "        print(\"its 45\")\n",
    "        break\n",
    "    print(i)\n",
    "    "
   ]
  },
  {
   "cell_type": "code",
   "execution_count": 71,
   "id": "55e3096c-8df4-4e75-9995-aa93a4eac1f5",
   "metadata": {},
   "outputs": [
    {
     "name": "stdout",
     "output_type": "stream",
     "text": [
      "mango\n",
      "banana\n",
      "the fruit is apple\n",
      "apple\n",
      "pineapple\n",
      "grapes\n",
      "cherry\n"
     ]
    }
   ],
   "source": [
    "for i in fruit_list:\n",
    "    if i==\"apple\":\n",
    "        print(\"the fruit is apple\")\n",
    "        pass\n",
    "    \n",
    "    print(i)"
   ]
  },
  {
   "cell_type": "code",
   "execution_count": 72,
   "id": "68f3f1d2-de74-429b-b884-3097a13a0345",
   "metadata": {},
   "outputs": [
    {
     "name": "stdout",
     "output_type": "stream",
     "text": [
      "mango\n",
      "banana\n",
      "the fruit is apple\n",
      "pineapple\n",
      "grapes\n",
      "cherry\n"
     ]
    }
   ],
   "source": [
    "for i in fruit_list:\n",
    "    if i==\"apple\":\n",
    "        print(\"the fruit is apple\")\n",
    "        continue\n",
    "    \n",
    "    print(i)"
   ]
  },
  {
   "cell_type": "code",
   "execution_count": 73,
   "id": "f859c0cf-d0a0-47ff-9065-1fbb31553ee8",
   "metadata": {},
   "outputs": [],
   "source": [
    "d=4"
   ]
  }
 ],
 "metadata": {
  "kernelspec": {
   "display_name": "Python 3 (ipykernel)",
   "language": "python",
   "name": "python3"
  },
  "language_info": {
   "codemirror_mode": {
    "name": "ipython",
    "version": 3
   },
   "file_extension": ".py",
   "mimetype": "text/x-python",
   "name": "python",
   "nbconvert_exporter": "python",
   "pygments_lexer": "ipython3",
   "version": "3.10.8"
  }
 },
 "nbformat": 4,
 "nbformat_minor": 5
}
