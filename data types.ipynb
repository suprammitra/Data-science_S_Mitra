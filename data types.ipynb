{
 "cells": [
  {
   "cell_type": "code",
   "execution_count": 13,
   "id": "3188a05d-acf1-4a67-8092-159507bfa3cd",
   "metadata": {},
   "outputs": [],
   "source": [
    "a=(1,2,2,45,\"hello\",78)"
   ]
  },
  {
   "cell_type": "code",
   "execution_count": 14,
   "id": "16bcb682-f6fa-4d57-b7ab-5cd84a3ca932",
   "metadata": {},
   "outputs": [
    {
     "data": {
      "text/plain": [
       "tuple"
      ]
     },
     "execution_count": 14,
     "metadata": {},
     "output_type": "execute_result"
    }
   ],
   "source": [
    "type(a)"
   ]
  },
  {
   "cell_type": "code",
   "execution_count": 3,
   "id": "353e4676-d2f5-4006-9d8b-c61df834061d",
   "metadata": {},
   "outputs": [],
   "source": [
    "b=[4,5,6,7,\"hello\",56]"
   ]
  },
  {
   "cell_type": "code",
   "execution_count": 4,
   "id": "7991d499-5ab7-4039-a079-75e472148604",
   "metadata": {},
   "outputs": [
    {
     "data": {
      "text/plain": [
       "list"
      ]
     },
     "execution_count": 4,
     "metadata": {},
     "output_type": "execute_result"
    }
   ],
   "source": [
    "type(b)"
   ]
  },
  {
   "cell_type": "code",
   "execution_count": 5,
   "id": "865e1d84-0d8d-4e07-88ef-90e6ade01849",
   "metadata": {},
   "outputs": [],
   "source": [
    "c=1"
   ]
  },
  {
   "cell_type": "code",
   "execution_count": 6,
   "id": "42cb10a6-d130-4182-be80-a3134714ae0e",
   "metadata": {},
   "outputs": [
    {
     "data": {
      "text/plain": [
       "int"
      ]
     },
     "execution_count": 6,
     "metadata": {},
     "output_type": "execute_result"
    }
   ],
   "source": [
    "type(c)"
   ]
  },
  {
   "cell_type": "code",
   "execution_count": 7,
   "id": "f8564525-2617-4a78-8aea-9cd384026edc",
   "metadata": {},
   "outputs": [],
   "source": [
    "d=3.4"
   ]
  },
  {
   "cell_type": "code",
   "execution_count": 8,
   "id": "4745cd0d-1695-4792-9617-0ff648bb53a6",
   "metadata": {},
   "outputs": [
    {
     "data": {
      "text/plain": [
       "float"
      ]
     },
     "execution_count": 8,
     "metadata": {},
     "output_type": "execute_result"
    }
   ],
   "source": [
    "type(d)"
   ]
  },
  {
   "cell_type": "code",
   "execution_count": 10,
   "id": "03ccd66f-3d36-4dca-8eaa-46e0f809423a",
   "metadata": {},
   "outputs": [],
   "source": [
    "e=\"supram\""
   ]
  },
  {
   "cell_type": "code",
   "execution_count": 11,
   "id": "e8ab3160-dd1f-45d7-b643-ad6dca530c62",
   "metadata": {},
   "outputs": [
    {
     "data": {
      "text/plain": [
       "str"
      ]
     },
     "execution_count": 11,
     "metadata": {},
     "output_type": "execute_result"
    }
   ],
   "source": [
    "type(e)"
   ]
  }
 ],
 "metadata": {
  "kernelspec": {
   "display_name": "Python 3 (ipykernel)",
   "language": "python",
   "name": "python3"
  },
  "language_info": {
   "codemirror_mode": {
    "name": "ipython",
    "version": 3
   },
   "file_extension": ".py",
   "mimetype": "text/x-python",
   "name": "python",
   "nbconvert_exporter": "python",
   "pygments_lexer": "ipython3",
   "version": "3.10.8"
  }
 },
 "nbformat": 4,
 "nbformat_minor": 5
}
