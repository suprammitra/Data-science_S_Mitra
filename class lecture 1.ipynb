{
 "cells": [
  {
   "cell_type": "code",
   "execution_count": 1,
   "id": "0e7dd0d5-bb57-4cfa-8747-fdd11957af5b",
   "metadata": {},
   "outputs": [
    {
     "name": "stdout",
     "output_type": "stream",
     "text": [
      "123\n"
     ]
    }
   ],
   "source": [
    "print(123)"
   ]
  },
  {
   "cell_type": "code",
   "execution_count": 3,
   "id": "6fff5d20-c30d-4e18-9c06-89043988fedf",
   "metadata": {},
   "outputs": [
    {
     "name": "stdout",
     "output_type": "stream",
     "text": [
      "hello\n"
     ]
    }
   ],
   "source": [
    "print(\"hello\")"
   ]
  },
  {
   "cell_type": "code",
   "execution_count": 4,
   "id": "8cbc3c75-d18f-421a-80f3-35225bba6d5e",
   "metadata": {},
   "outputs": [
    {
     "name": "stdout",
     "output_type": "stream",
     "text": [
      "my age is: 32\n"
     ]
    }
   ],
   "source": [
    "age=32\n",
    "print(\"my age is:\",age)"
   ]
  },
  {
   "cell_type": "code",
   "execution_count": 5,
   "id": "4dc5c702-e874-4b7f-8b4c-d41d2f19aae3",
   "metadata": {},
   "outputs": [
    {
     "name": "stdout",
     "output_type": "stream",
     "text": [
      "my age is: 25\n"
     ]
    }
   ],
   "source": [
    "age=25\n",
    "print(\"my age is:\",age)"
   ]
  },
  {
   "cell_type": "code",
   "execution_count": 13,
   "id": "cc65136e-2027-4423-916b-2b3a6904c6bb",
   "metadata": {},
   "outputs": [
    {
     "name": "stdout",
     "output_type": "stream",
     "text": [
      "my age is:25\n"
     ]
    }
   ],
   "source": [
    "# f string\n",
    "age=25\n",
    "print(f\"my age is:{age}\")"
   ]
  },
  {
   "cell_type": "code",
   "execution_count": 15,
   "id": "170f6512-7d0f-4207-b0f5-87797e355466",
   "metadata": {},
   "outputs": [
    {
     "name": "stdout",
     "output_type": "stream",
     "text": [
      "my age is:{age}\n"
     ]
    }
   ],
   "source": [
    "# with out f string\n",
    "age=25\n",
    "print(\"my age is:{age}\")"
   ]
  },
  {
   "cell_type": "code",
   "execution_count": 16,
   "id": "a564f57d-53e8-4c3e-997d-6c72993b1d54",
   "metadata": {},
   "outputs": [
    {
     "name": "stdout",
     "output_type": "stream",
     "text": [
      "my name is Supram and age is 25\n"
     ]
    }
   ],
   "source": [
    "## format\n",
    "name= \"Supram\"\n",
    "age=25\n",
    "print(\"my name is {} and age is {}\". format(name,age)) "
   ]
  },
  {
   "cell_type": "code",
   "execution_count": 17,
   "id": "bf827e62-7921-4c58-a6c6-ef1f74b7f25d",
   "metadata": {},
   "outputs": [
    {
     "name": "stdout",
     "output_type": "stream",
     "text": [
      "my name is Supram and my age is 26 but i belong to emrapassa\n"
     ]
    }
   ],
   "source": [
    "Name=\"subho\"\n",
    "age= 26\n",
    "adress=\"emrapassa\"\n",
    "print(\"my name is {} and my age is {} but i belong to {}\".format(name,age,adress))"
   ]
  },
  {
   "cell_type": "code",
   "execution_count": 18,
   "id": "89c2bf03-5773-44ec-b0c2-f7a47a18e301",
   "metadata": {},
   "outputs": [
    {
     "name": "stdout",
     "output_type": "stream",
     "text": [
      "my name isSupram and my age is 26\n"
     ]
    }
   ],
   "source": [
    "#place gholder\n",
    "print(\"my name is{firstname} and my age is {firstage}\".format(firstname=name,firstage=age))"
   ]
  },
  {
   "cell_type": "code",
   "execution_count": 19,
   "id": "9d52104e-9c38-43a2-a8fb-ffb42d5e91da",
   "metadata": {},
   "outputs": [
    {
     "name": "stdout",
     "output_type": "stream",
     "text": [
      "my age is25 and i have completed: my degree of Msc with name of supram\n"
     ]
    }
   ],
   "source": [
    "#.format\n",
    "name=\"supram\"\n",
    "age=25\n",
    "degree=\"Msc\"\n",
    "\n",
    "print(\"my age is{} and i have completed: my degree of {} with name of {}\".format(age,degree,name))"
   ]
  },
  {
   "cell_type": "code",
   "execution_count": 22,
   "id": "4751495f-9019-4eb9-93a4-161227021d73",
   "metadata": {},
   "outputs": [
    {
     "name": "stdout",
     "output_type": "stream",
     "text": [
      "my age is 25 and i have completed: my degree of Msc with name supram\n"
     ]
    }
   ],
   "source": [
    "#f string\n",
    "print(f\"my age is {age} and i have completed: my degree of {degree} with name {name}\") "
   ]
  },
  {
   "cell_type": "code",
   "execution_count": null,
   "id": "787fc1a4-4291-4b05-af1b-db1b7b19e3f0",
   "metadata": {},
   "outputs": [],
   "source": [
    "#f string\n",
    "#my name is supram studied wst from FRI and currenly working at livspace at the age of 25\n"
   ]
  },
  {
   "cell_type": "code",
   "execution_count": 6,
   "id": "0d7840dc-e904-4911-bc90-298b7933bd55",
   "metadata": {},
   "outputs": [
    {
     "name": "stdout",
     "output_type": "stream",
     "text": [
      "my name issupram studied wst from fri and currently working at livspace at the age of 40\n"
     ]
    }
   ],
   "source": [
    "name=\"supram\"\n",
    "degree=\"wst\"\n",
    "college=\"fri\"\n",
    "company=\"livspace\"\n",
    "age=40\n",
    "\n",
    "print(f\"my name is{name} studied {degree} from {college} and currently working at {company} at the age of {age}\")"
   ]
  },
  {
   "cell_type": "code",
   "execution_count": 7,
   "id": "426454d9-232d-4f77-87b2-a923d6af9e01",
   "metadata": {},
   "outputs": [
    {
     "name": "stdout",
     "output_type": "stream",
     "text": [
      "my name is supram studied wst fromfri and currently working atlivspace at the age of 40\n"
     ]
    }
   ],
   "source": [
    "#.fotmat\n",
    "print(\"my name is {} studied {} from{} and currently working at{} at the age of {}\".format(name,degree,college,company,age))"
   ]
  },
  {
   "cell_type": "code",
   "execution_count": null,
   "id": "b51a5a3d-d56e-48c1-baa9-c170f5c85cc0",
   "metadata": {},
   "outputs": [],
   "source": []
  },
  {
   "cell_type": "code",
   "execution_count": 8,
   "id": "cb05feeb-22fe-4e27-b48d-0ec75844e306",
   "metadata": {},
   "outputs": [
    {
     "data": {
      "text/plain": [
       "'a person named supram who is prime minister by profession for next 50 years and earn 5327842873468768 momthly \\ngot 8364862386 votes from nashik'"
      ]
     },
     "execution_count": 8,
     "metadata": {},
     "output_type": "execute_result"
    }
   ],
   "source": [
    "name=\"supram\"\n",
    "location=\"nashik\"\n",
    "profession=\"prime minister\"\n",
    "vote=2365687463298648723648296\n",
    "sallary=2538746238659875873658658365830658437658\n",
    "duration=50\n",
    "\n",
    "\"\"\"a person named supram who is prime minister by profession for next 50 years and earn 5327842873468768 momthly \n",
    "got 8364862386 votes from nashik\"\"\"\n"
   ]
  },
  {
   "cell_type": "code",
   "execution_count": 15,
   "id": "afc54302-7a0a-4a79-bb6a-2e6cc63d15da",
   "metadata": {},
   "outputs": [
    {
     "name": "stdout",
     "output_type": "stream",
     "text": [
      "a person named supram who is prime minister by profession for next 50 years and earn 2538746238659875873658658365830658437658  monthly got2365687463298648723648296 from nashik\n"
     ]
    }
   ],
   "source": [
    "print(f\"a person named {name} who is {profession} by profession for next {duration} years and earn {sallary}  monthly got{vote} from {location}\")"
   ]
  },
  {
   "cell_type": "code",
   "execution_count": 12,
   "id": "6013ca1d-057c-4acd-8f87-ca0fcb6a0e7e",
   "metadata": {},
   "outputs": [
    {
     "name": "stdout",
     "output_type": "stream",
     "text": [
      "a person named supram who is prime minister by profession for next 50 years and earn 2538746238659875873658658365830658437658 monthly got2365687463298648723648296 from nashik\n"
     ]
    }
   ],
   "source": [
    "print(\"a person named {} who is {} by profession for next {} years and earn {} monthly got{} from {}\".format(name,profession,duration,sallary,vote,location))"
   ]
  },
  {
   "cell_type": "markdown",
   "id": "92dda88a-1510-4fea-ad86-646c052bca08",
   "metadata": {},
   "source": [
    "## control flow\n",
    "* ok\n",
    "* not oj"
   ]
  },
  {
   "cell_type": "code",
   "execution_count": 2,
   "id": "8d1c3d54-d52c-4d80-8867-84eb587adc02",
   "metadata": {},
   "outputs": [
    {
     "name": "stdout",
     "output_type": "stream",
     "text": [
      "you are eligible to vote\n"
     ]
    }
   ],
   "source": [
    "# if statement\n",
    "age=18\n",
    "if age>=18:\n",
    "    print(\"you are eligible to vote\")"
   ]
  },
  {
   "cell_type": "code",
   "execution_count": 7,
   "id": "13fe846c-cc2a-40f5-9780-48a1fb383b55",
   "metadata": {},
   "outputs": [
    {
     "name": "stdout",
     "output_type": "stream",
     "text": [
      "you are eligible to vote\n"
     ]
    }
   ],
   "source": [
    "age=18\n",
    "if age<=18:\n",
    "    print(\"you are eligible to vote\")"
   ]
  },
  {
   "cell_type": "code",
   "execution_count": 14,
   "id": "7793afda-a13d-43b2-a473-0eb39ea3ca47",
   "metadata": {},
   "outputs": [
    {
     "name": "stdout",
     "output_type": "stream",
     "text": [
      "not eligible\n"
     ]
    }
   ],
   "source": [
    "age=18\n",
    "if age<18:\n",
    "    print(\"you are not eligible to vote\")\n",
    "else:\n",
    "    print(\"not eligible\")"
   ]
  },
  {
   "cell_type": "code",
   "execution_count": null,
   "id": "c497a788-6b5e-4149-b9c0-7176bd0c8f49",
   "metadata": {},
   "outputs": [],
   "source": [
    "price=int(input(\"enter price\"))\n",
    "\n",
    "if price>3000:\n",
    "    print(\" product price is {}\".format(price*.8))"
   ]
  },
  {
   "cell_type": "code",
   "execution_count": null,
   "id": "d8dcde20-5a5a-4dea-88af-b9c8be203612",
   "metadata": {},
   "outputs": [],
   "source": []
  },
  {
   "cell_type": "code",
   "execution_count": null,
   "id": "d6178d47-8b23-4d96-87db-c29e8bc06639",
   "metadata": {},
   "outputs": [],
   "source": []
  }
 ],
 "metadata": {
  "kernelspec": {
   "display_name": "Python 3 (ipykernel)",
   "language": "python",
   "name": "python3"
  },
  "language_info": {
   "codemirror_mode": {
    "name": "ipython",
    "version": 3
   },
   "file_extension": ".py",
   "mimetype": "text/x-python",
   "name": "python",
   "nbconvert_exporter": "python",
   "pygments_lexer": "ipython3",
   "version": "3.10.8"
  }
 },
 "nbformat": 4,
 "nbformat_minor": 5
}
