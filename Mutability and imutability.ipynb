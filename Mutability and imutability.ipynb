{
 "cells": [
  {
   "cell_type": "code",
   "execution_count": 4,
   "id": "7adddbfd-4ddf-4809-9aa9-6159050eaa92",
   "metadata": {},
   "outputs": [],
   "source": [
    "a=\"supram\""
   ]
  },
  {
   "cell_type": "code",
   "execution_count": 6,
   "id": "a2e5052b-68c6-4dcc-9553-ad9933693080",
   "metadata": {},
   "outputs": [
    {
     "data": {
      "text/plain": [
       "'u'"
      ]
     },
     "execution_count": 6,
     "metadata": {},
     "output_type": "execute_result"
    }
   ],
   "source": [
    "a[1]"
   ]
  },
  {
   "cell_type": "code",
   "execution_count": 7,
   "id": "abb5e23f-accf-4cd0-b39b-f10e396e55ce",
   "metadata": {},
   "outputs": [
    {
     "data": {
      "text/plain": [
       "'r'"
      ]
     },
     "execution_count": 7,
     "metadata": {},
     "output_type": "execute_result"
    }
   ],
   "source": [
    "a[-3]"
   ]
  },
  {
   "cell_type": "code",
   "execution_count": 20,
   "id": "2c43042c-19dc-4898-a978-adb61f3e3e13",
   "metadata": {
    "jp-MarkdownHeadingCollapsed": true,
    "tags": []
   },
   "outputs": [
    {
     "ename": "SyntaxError",
     "evalue": "cannot assign to literal here. Maybe you meant '==' instead of '='? (518681463.py, line 1)",
     "output_type": "error",
     "traceback": [
      "\u001b[0;36m  Cell \u001b[0;32mIn[20], line 1\u001b[0;36m\u001b[0m\n\u001b[0;31m    1 =[2,3,4,5,6,6,\"sudh\", 'puk',4+2j]\u001b[0m\n\u001b[0m    ^\u001b[0m\n\u001b[0;31mSyntaxError\u001b[0m\u001b[0;31m:\u001b[0m cannot assign to literal here. Maybe you meant '==' instead of '='?\n"
     ]
    }
   ],
   "source": [
    "1 =[2,3,4,5,6,6,\"sudh\", 'puk',4+2j"
   ]
  },
  {
   "cell_type": "code",
   "execution_count": null,
   "id": "54eb63c2-c351-4405-ae71-0af897e42316",
   "metadata": {},
   "outputs": [],
   "source": []
  },
  {
   "cell_type": "code",
   "execution_count": null,
   "id": "8bb46b40-6e5d-4999-88b7-91744d99fa58",
   "metadata": {},
   "outputs": [],
   "source": []
  },
  {
   "cell_type": "code",
   "execution_count": 22,
   "id": "fece04fd-77af-4f5d-ad90-50d9723006e9",
   "metadata": {},
   "outputs": [],
   "source": [
    "a=[1,2,3,4,\"supram\", True, 2+4J]"
   ]
  },
  {
   "cell_type": "code",
   "execution_count": 23,
   "id": "4eeec2da-2303-4594-9790-714a24f3729c",
   "metadata": {},
   "outputs": [
    {
     "data": {
      "text/plain": [
       "list"
      ]
     },
     "execution_count": 23,
     "metadata": {},
     "output_type": "execute_result"
    }
   ],
   "source": [
    "type(a)"
   ]
  },
  {
   "cell_type": "code",
   "execution_count": 24,
   "id": "230187dd-6111-46a0-a054-f369e489da6a",
   "metadata": {},
   "outputs": [
    {
     "data": {
      "text/plain": [
       "'supram'"
      ]
     },
     "execution_count": 24,
     "metadata": {},
     "output_type": "execute_result"
    }
   ],
   "source": [
    "a[4]"
   ]
  },
  {
   "cell_type": "code",
   "execution_count": 25,
   "id": "aa87dc8a-356f-4b36-9475-51e4f345bb14",
   "metadata": {},
   "outputs": [
    {
     "data": {
      "text/plain": [
       "'supram'"
      ]
     },
     "execution_count": 25,
     "metadata": {},
     "output_type": "execute_result"
    }
   ],
   "source": [
    "a[-3]"
   ]
  },
  {
   "cell_type": "code",
   "execution_count": 26,
   "id": "9db4e466-3155-465d-92c0-429e58ce7780",
   "metadata": {},
   "outputs": [
    {
     "data": {
      "text/plain": [
       "(2+4j)"
      ]
     },
     "execution_count": 26,
     "metadata": {},
     "output_type": "execute_result"
    }
   ],
   "source": [
    "a[-1]"
   ]
  },
  {
   "cell_type": "code",
   "execution_count": 27,
   "id": "31a797ad-5d6d-4745-aeb9-131c314ee34f",
   "metadata": {},
   "outputs": [
    {
     "data": {
      "text/plain": [
       "[1, 2, 3, 4, 'supram', True, (2+4j)]"
      ]
     },
     "execution_count": 27,
     "metadata": {},
     "output_type": "execute_result"
    }
   ],
   "source": [
    "a"
   ]
  },
  {
   "cell_type": "code",
   "execution_count": 28,
   "id": "cb9543d5-884f-4040-ab0b-08c5d96420e5",
   "metadata": {},
   "outputs": [],
   "source": [
    "a[6]=100"
   ]
  },
  {
   "cell_type": "code",
   "execution_count": 29,
   "id": "1d6742e6-ea59-40e8-9a8b-335859b1f32c",
   "metadata": {},
   "outputs": [
    {
     "data": {
      "text/plain": [
       "[1, 2, 3, 4, 'supram', True, 100]"
      ]
     },
     "execution_count": 29,
     "metadata": {},
     "output_type": "execute_result"
    }
   ],
   "source": [
    "a"
   ]
  },
  {
   "cell_type": "code",
   "execution_count": 31,
   "id": "64293e89-908f-43e9-9882-8da170469181",
   "metadata": {},
   "outputs": [],
   "source": [
    "c=\"supram\""
   ]
  },
  {
   "cell_type": "code",
   "execution_count": 35,
   "id": "547ef575-e217-424f-b524-7753061619be",
   "metadata": {},
   "outputs": [
    {
     "data": {
      "text/plain": [
       "str"
      ]
     },
     "execution_count": 35,
     "metadata": {},
     "output_type": "execute_result"
    }
   ],
   "source": [
    "type(c)"
   ]
  },
  {
   "cell_type": "code",
   "execution_count": 36,
   "id": "8175752e-77b4-49f6-841d-ede4770fd791",
   "metadata": {},
   "outputs": [
    {
     "ename": "TypeError",
     "evalue": "'str' object does not support item assignment",
     "output_type": "error",
     "traceback": [
      "\u001b[0;31m---------------------------------------------------------------------------\u001b[0m",
      "\u001b[0;31mTypeError\u001b[0m                                 Traceback (most recent call last)",
      "Cell \u001b[0;32mIn[36], line 1\u001b[0m\n\u001b[0;32m----> 1\u001b[0m \u001b[43mc\u001b[49m\u001b[43m[\u001b[49m\u001b[38;5;241;43m2\u001b[39;49m\u001b[43m]\u001b[49m\u001b[38;5;241m=\u001b[39m\u001b[38;5;124m'\u001b[39m\u001b[38;5;124mh\u001b[39m\u001b[38;5;124m'\u001b[39m\n",
      "\u001b[0;31mTypeError\u001b[0m: 'str' object does not support item assignment"
     ]
    }
   ],
   "source": [
    "c[2]='h'"
   ]
  },
  {
   "cell_type": "code",
   "execution_count": 37,
   "id": "35ad124b-0092-4423-a5da-8e78d34b94eb",
   "metadata": {},
   "outputs": [
    {
     "data": {
      "text/plain": [
       "[1, 2, 3, 4, 'supram', True, 100]"
      ]
     },
     "execution_count": 37,
     "metadata": {},
     "output_type": "execute_result"
    }
   ],
   "source": [
    "a"
   ]
  },
  {
   "cell_type": "code",
   "execution_count": 42,
   "id": "d63908e5-d90d-40d3-a7e3-696ce2c8102d",
   "metadata": {},
   "outputs": [],
   "source": [
    "a[2]=7"
   ]
  },
  {
   "cell_type": "code",
   "execution_count": 43,
   "id": "12ad313b-046f-48f8-832a-4eeac69a883d",
   "metadata": {},
   "outputs": [
    {
     "data": {
      "text/plain": [
       "[1, 2, 7, 4, 'supram', True, 100]"
      ]
     },
     "execution_count": 43,
     "metadata": {},
     "output_type": "execute_result"
    }
   ],
   "source": [
    "a"
   ]
  },
  {
   "cell_type": "code",
   "execution_count": 44,
   "id": "3c3320af-c071-495c-bcac-419cffb45611",
   "metadata": {},
   "outputs": [],
   "source": [
    "a[4]=False"
   ]
  },
  {
   "cell_type": "code",
   "execution_count": 45,
   "id": "a34bb454-cc1d-4d8d-9927-50c7f06c4bcc",
   "metadata": {},
   "outputs": [
    {
     "data": {
      "text/plain": [
       "[1, 2, 7, 4, False, True, 100]"
      ]
     },
     "execution_count": 45,
     "metadata": {},
     "output_type": "execute_result"
    }
   ],
   "source": [
    "a"
   ]
  }
 ],
 "metadata": {
  "kernelspec": {
   "display_name": "Python 3 (ipykernel)",
   "language": "python",
   "name": "python3"
  },
  "language_info": {
   "codemirror_mode": {
    "name": "ipython",
    "version": 3
   },
   "file_extension": ".py",
   "mimetype": "text/x-python",
   "name": "python",
   "nbconvert_exporter": "python",
   "pygments_lexer": "ipython3",
   "version": "3.10.8"
  }
 },
 "nbformat": 4,
 "nbformat_minor": 5
}
